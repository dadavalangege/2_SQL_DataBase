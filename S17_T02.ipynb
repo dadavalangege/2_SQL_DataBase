{
 "cells": [
  {
   "cell_type": "markdown",
   "id": "1da5fbb1",
   "metadata": {},
   "source": [
    "- Exercici 1\n",
    "\n",
    "Crea una base de dades relacionals senzilla utilitzant MySQL(https://www.mysql.com/) i connecta-la a Python"
   ]
  },
  {
   "cell_type": "code",
   "execution_count": 1,
   "id": "b4442f88",
   "metadata": {},
   "outputs": [],
   "source": [
    "import mysql.connector\n",
    "import numpy as np\n",
    "import pandas as pd\n",
    "import matplotlib.pyplot as plt\n",
    "import seaborn as sns\n",
    "import names\n",
    "from barnum import gen_data\n",
    "import random"
   ]
  },
  {
   "cell_type": "markdown",
   "id": "7310742d",
   "metadata": {},
   "source": [
    "Hem creat amb MySQL l'estructura d'una base de dades (codi disponible a l'arxiu 'S17_T02.sql'). Ens connectarem i insertarem valors generats aleatòriament des de python a les diferents taules."
   ]
  },
  {
   "cell_type": "code",
   "execution_count": 2,
   "id": "faf20766",
   "metadata": {},
   "outputs": [
    {
     "name": "stdout",
     "output_type": "stream",
     "text": [
      "<mysql.connector.connection_cext.CMySQLConnection object at 0x0000019845297F10>\n"
     ]
    }
   ],
   "source": [
    "mydb = mysql.connector.connect(\n",
    "    host=\"localhost\",\n",
    "    user=\"root\",\n",
    "    password=\"root\",\n",
    "    database='franquicia'\n",
    ")\n",
    "\n",
    "print(mydb) "
   ]
  },
  {
   "cell_type": "code",
   "execution_count": 7,
   "id": "e58f65c7",
   "metadata": {
    "scrolled": false
   },
   "outputs": [
    {
     "name": "stdout",
     "output_type": "stream",
     "text": [
      "('clients',)\n",
      "('establiments',)\n",
      "('productes',)\n",
      "('treballadors',)\n"
     ]
    }
   ],
   "source": [
    "mycursor = mydb.cursor()\n",
    "\n",
    "mycursor.execute(\"SHOW TABLES\")\n",
    "\n",
    "for x in mycursor:\n",
    "    print(x)"
   ]
  },
  {
   "cell_type": "markdown",
   "id": "baef974d",
   "metadata": {},
   "source": [
    "Generarem noms i cognoms falsos per crear entrades per la taula clients."
   ]
  },
  {
   "cell_type": "code",
   "execution_count": 5,
   "id": "a6ad0cb2",
   "metadata": {},
   "outputs": [],
   "source": [
    "def names_surnames(number_of):\n",
    "    \n",
    "    nam_surnam = []\n",
    "    for i in range(number_of):\n",
    "        values = (names.get_first_name(), names.get_last_name())\n",
    "        nam_surnam.append(values)\n",
    "    return nam_surnam"
   ]
  },
  {
   "cell_type": "code",
   "execution_count": 5,
   "id": "bb5b14d9",
   "metadata": {},
   "outputs": [],
   "source": [
    "insert_val_clients = \"INSERT INTO clients (nom, cognom) VALUES (%s, %s)\"\n",
    "mycursor.executemany(insert_val_clients, names_surnames(20))"
   ]
  },
  {
   "cell_type": "code",
   "execution_count": 6,
   "id": "ba1c6203",
   "metadata": {
    "scrolled": true
   },
   "outputs": [
    {
     "name": "stdout",
     "output_type": "stream",
     "text": [
      "('Kenny', 'Hammond')\n",
      "('Norma', 'Cobb')\n",
      "('William', 'Lavis')\n",
      "('Domenic', 'Gary')\n",
      "('Joseph', 'Gage')\n",
      "('Craig', 'Perez')\n",
      "('Charles', 'Lau')\n",
      "('Preston', 'Heflin')\n",
      "('Alan', 'Ybanez')\n",
      "('Elise', 'Queen')\n",
      "('James', 'Ellis')\n",
      "('Brian', 'Martin')\n",
      "('Dona', 'Caban')\n",
      "('Francis', 'Sullivan')\n",
      "('Brian', 'Kirby')\n",
      "('Timothy', 'Murphy')\n",
      "('Steve', 'Floyd')\n",
      "('Mary', 'Riess')\n",
      "('John', 'Mccoy')\n",
      "('Anastasia', 'Eastburn')\n"
     ]
    }
   ],
   "source": [
    "mycursor.execute(\"SELECT nom, cognom FROM clients\")\n",
    "result = mycursor.fetchall()\n",
    "for x in result:\n",
    "    print(x)"
   ]
  },
  {
   "cell_type": "code",
   "execution_count": 7,
   "id": "a2f8bba6",
   "metadata": {},
   "outputs": [],
   "source": [
    "mydb.commit()"
   ]
  },
  {
   "cell_type": "markdown",
   "id": "de6172df",
   "metadata": {},
   "source": [
    "Ara afegirem els valors per als treballadors."
   ]
  },
  {
   "cell_type": "code",
   "execution_count": 8,
   "id": "5b357906",
   "metadata": {},
   "outputs": [
    {
     "data": {
      "text/plain": [
       "[('Sue', 'Irby', 1622),\n",
       " ('Melvin', 'King', 3702),\n",
       " ('Earl', 'Dahlstrom', 3361),\n",
       " ('Thomas', 'Lasley', 1478),\n",
       " ('Norberto', 'Rouse', 3787),\n",
       " ('Sonja', 'Miraflores', 2431),\n",
       " ('William', 'Vernon', 2895),\n",
       " ('Mary', 'Cesari', 1338),\n",
       " ('Pamala', 'Baker', 1339),\n",
       " ('Richard', 'Irwin', 3467),\n",
       " ('Patricia', 'Leroy', 2783),\n",
       " ('Perry', 'Hatmaker', 3816),\n",
       " ('Edna', 'Collins', 1297),\n",
       " ('David', 'Ross', 3851),\n",
       " ('Matthew', 'Rodriguez', 3724),\n",
       " ('Tamara', 'Madden', 2225),\n",
       " ('Maria', 'Williams', 1411),\n",
       " ('Kim', 'Mattos', 1259),\n",
       " ('Gladys', 'Mahler', 1529),\n",
       " ('Robert', 'Rose', 1442)]"
      ]
     },
     "execution_count": 8,
     "metadata": {},
     "output_type": "execute_result"
    }
   ],
   "source": [
    "treballadors = []\n",
    "for i in range(20):\n",
    "    values = (names.get_first_name(), names.get_last_name(), random.randint(1000, 4000))\n",
    "    treballadors.append(values)\n",
    "\n",
    "treballadors"
   ]
  },
  {
   "cell_type": "code",
   "execution_count": 9,
   "id": "81402357",
   "metadata": {},
   "outputs": [],
   "source": [
    "insert_val_treball = \"INSERT INTO treballadors (nom, cognom, salari) VALUES (%s, %s, %s)\"\n",
    "mycursor.executemany(insert_val_treball, treballadors)"
   ]
  },
  {
   "cell_type": "code",
   "execution_count": 11,
   "id": "6234a872",
   "metadata": {
    "scrolled": true
   },
   "outputs": [
    {
     "name": "stdout",
     "output_type": "stream",
     "text": [
      "('Sue', 'Irby', 1622)\n",
      "('Melvin', 'King', 3702)\n",
      "('Earl', 'Dahlstrom', 3361)\n",
      "('Thomas', 'Lasley', 1478)\n",
      "('Norberto', 'Rouse', 3787)\n",
      "('Sonja', 'Miraflores', 2431)\n",
      "('William', 'Vernon', 2895)\n",
      "('Mary', 'Cesari', 1338)\n",
      "('Pamala', 'Baker', 1339)\n",
      "('Richard', 'Irwin', 3467)\n",
      "('Patricia', 'Leroy', 2783)\n",
      "('Perry', 'Hatmaker', 3816)\n",
      "('Edna', 'Collins', 1297)\n",
      "('David', 'Ross', 3851)\n",
      "('Matthew', 'Rodriguez', 3724)\n",
      "('Tamara', 'Madden', 2225)\n",
      "('Maria', 'Williams', 1411)\n",
      "('Kim', 'Mattos', 1259)\n",
      "('Gladys', 'Mahler', 1529)\n",
      "('Robert', 'Rose', 1442)\n"
     ]
    }
   ],
   "source": [
    "mycursor.execute(\"SELECT nom, cognom, salari FROM treballadors\")\n",
    "result = mycursor.fetchall()\n",
    "for x in result:\n",
    "    print(x)"
   ]
  },
  {
   "cell_type": "code",
   "execution_count": 12,
   "id": "a6eff5a5",
   "metadata": {},
   "outputs": [],
   "source": [
    "mydb.commit()"
   ]
  },
  {
   "cell_type": "markdown",
   "id": "b1c5c0ce",
   "metadata": {},
   "source": [
    "Continuarem amb la taula d'establiments."
   ]
  },
  {
   "cell_type": "code",
   "execution_count": 11,
   "id": "a6554e2a",
   "metadata": {
    "scrolled": true
   },
   "outputs": [
    {
     "data": {
      "text/plain": [
       "[('Solutions Studio Inc', 'Grandin', 259),\n",
       " ('Net Omega West Industries', 'Rochester', 216),\n",
       " ('Hardware Limited', 'Oklahoma City', 137),\n",
       " ('Network Incorporated', 'Shuqualak', 152),\n",
       " ('Power Pacific Corporation', 'Valdosta', 276),\n",
       " ('Omega Research Agency', 'Sparks', 206),\n",
       " ('Federated Architecture Co', 'Wisconsin Rapids', 433),\n",
       " ('Interactive Construction Limited', 'Johnson', 379),\n",
       " ('Graphics Hill Systems Industries', 'Napavine', 213),\n",
       " ('Telecom Internet Alpha International', 'Camp Creek', 179),\n",
       " ('Application Universal International', 'Mineral Point', 235),\n",
       " ('Speed Corporation', 'Cincinnati', 373),\n",
       " ('Data North Incorporated', 'Bullhead City', 444),\n",
       " ('Consulting Limited', 'Marion', 428),\n",
       " ('Provider Vision Electronics Limited', 'Rockport', 311),\n",
       " ('Federated Graphics Source Agency', 'Oceano', 332),\n",
       " ('General LLC', 'Buchanan', 369),\n",
       " ('Hardware Group', 'China Village', 341),\n",
       " ('Medicine Organization', 'Allentown', 50),\n",
       " ('Vision Solutions Design Agency', 'Drybranch', 415)]"
      ]
     },
     "execution_count": 11,
     "metadata": {},
     "output_type": "execute_result"
    }
   ],
   "source": [
    "establiments = []\n",
    "for i in range(20):\n",
    "    values = (gen_data.create_company_name(biz_type=\"Generic\"), \n",
    "              gen_data.create_city_state_zip()[1], random.randint(50, 500))\n",
    "    establiments.append(values)\n",
    "\n",
    "establiments"
   ]
  },
  {
   "cell_type": "code",
   "execution_count": 12,
   "id": "fd6182ee",
   "metadata": {},
   "outputs": [],
   "source": [
    "insert_val_establiment = \"INSERT INTO establiments (nom, loc, superf) VALUES (%s, %s, %s)\"\n",
    "mycursor.executemany(insert_val_establiment, establiments)"
   ]
  },
  {
   "cell_type": "code",
   "execution_count": 13,
   "id": "9dd919d6",
   "metadata": {
    "scrolled": true
   },
   "outputs": [
    {
     "name": "stdout",
     "output_type": "stream",
     "text": [
      "('Solutions Studio Inc', 'Grandin', 259)\n",
      "('Net Omega West Industries', 'Rochester', 216)\n",
      "('Hardware Limited', 'Oklahoma City', 137)\n",
      "('Network Incorporated', 'Shuqualak', 152)\n",
      "('Power Pacific Corporation', 'Valdosta', 276)\n",
      "('Omega Research Agency', 'Sparks', 206)\n",
      "('Federated Architecture Co', 'Wisconsin Rapids', 433)\n",
      "('Interactive Construction Limited', 'Johnson', 379)\n",
      "('Graphics Hill Systems Industries', 'Napavine', 213)\n",
      "('Telecom Internet Alpha International', 'Camp Creek', 179)\n",
      "('Application Universal International', 'Mineral Point', 235)\n",
      "('Speed Corporation', 'Cincinnati', 373)\n",
      "('Data North Incorporated', 'Bullhead City', 444)\n",
      "('Consulting Limited', 'Marion', 428)\n",
      "('Provider Vision Electronics Limited', 'Rockport', 311)\n",
      "('Federated Graphics Source Agency', 'Oceano', 332)\n",
      "('General LLC', 'Buchanan', 369)\n",
      "('Hardware Group', 'China Village', 341)\n",
      "('Medicine Organization', 'Allentown', 50)\n",
      "('Vision Solutions Design Agency', 'Drybranch', 415)\n"
     ]
    }
   ],
   "source": [
    "mycursor.execute(\"SELECT nom, loc, superf FROM establiments\")\n",
    "result = mycursor.fetchall()\n",
    "for x in result:\n",
    "    print(x)"
   ]
  },
  {
   "cell_type": "code",
   "execution_count": 14,
   "id": "b58f8e58",
   "metadata": {},
   "outputs": [],
   "source": [
    "mydb.commit()"
   ]
  },
  {
   "cell_type": "markdown",
   "id": "7ae0b8f5",
   "metadata": {},
   "source": [
    "Finalment, els productes."
   ]
  },
  {
   "cell_type": "code",
   "execution_count": 15,
   "id": "d6116071",
   "metadata": {},
   "outputs": [],
   "source": [
    "product_types = [\"cereal\", \"corn flakes\", \"pound cake\", \"almond cake\", \n",
    "                 \"napoleon\", \"meat\", \"beef\", \"pork\", \"veal\", \"lamb\"]\n",
    "\n",
    "productes = []\n",
    "for i in range(10):\n",
    "    values = (product_types[i], random.randint(1, 10))\n",
    "    productes.append(values)"
   ]
  },
  {
   "cell_type": "code",
   "execution_count": 16,
   "id": "dcb2d487",
   "metadata": {},
   "outputs": [],
   "source": [
    "insert_val_products = \"INSERT INTO productes (tipus, preu) VALUES (%s, %s)\"\n",
    "mycursor.executemany(insert_val_products, productes)"
   ]
  },
  {
   "cell_type": "code",
   "execution_count": 17,
   "id": "18ee78fa",
   "metadata": {},
   "outputs": [
    {
     "name": "stdout",
     "output_type": "stream",
     "text": [
      "('cereal', 6)\n",
      "('corn flakes', 9)\n",
      "('pound cake', 1)\n",
      "('almond cake', 1)\n",
      "('napoleon', 7)\n",
      "('meat', 8)\n",
      "('beef', 5)\n",
      "('pork', 6)\n",
      "('veal', 5)\n",
      "('lamb', 9)\n"
     ]
    }
   ],
   "source": [
    "mycursor.execute(\"SELECT tipus, preu FROM productes\")\n",
    "result = mycursor.fetchall()\n",
    "for x in result:\n",
    "    print(x)"
   ]
  },
  {
   "cell_type": "code",
   "execution_count": 18,
   "id": "d0e1c0f4",
   "metadata": {},
   "outputs": [],
   "source": [
    "mydb.commit()"
   ]
  },
  {
   "cell_type": "markdown",
   "id": "a32325af",
   "metadata": {},
   "source": [
    "- Exercici 2\n",
    "\n",
    "Mostra que pots carregar algunes consultes senzilles a un Pandas Dataframe."
   ]
  },
  {
   "cell_type": "code",
   "execution_count": 3,
   "id": "0ecfb7b9",
   "metadata": {
    "scrolled": false
   },
   "outputs": [
    {
     "data": {
      "text/html": [
       "<div>\n",
       "<style scoped>\n",
       "    .dataframe tbody tr th:only-of-type {\n",
       "        vertical-align: middle;\n",
       "    }\n",
       "\n",
       "    .dataframe tbody tr th {\n",
       "        vertical-align: top;\n",
       "    }\n",
       "\n",
       "    .dataframe thead th {\n",
       "        text-align: right;\n",
       "    }\n",
       "</style>\n",
       "<table border=\"1\" class=\"dataframe\">\n",
       "  <thead>\n",
       "    <tr style=\"text-align: right;\">\n",
       "      <th></th>\n",
       "      <th>id_treballador</th>\n",
       "      <th>nom</th>\n",
       "      <th>cognom</th>\n",
       "      <th>salari</th>\n",
       "    </tr>\n",
       "  </thead>\n",
       "  <tbody>\n",
       "    <tr>\n",
       "      <th>0</th>\n",
       "      <td>1</td>\n",
       "      <td>Sue</td>\n",
       "      <td>Irby</td>\n",
       "      <td>1622</td>\n",
       "    </tr>\n",
       "    <tr>\n",
       "      <th>1</th>\n",
       "      <td>2</td>\n",
       "      <td>Melvin</td>\n",
       "      <td>King</td>\n",
       "      <td>3702</td>\n",
       "    </tr>\n",
       "    <tr>\n",
       "      <th>2</th>\n",
       "      <td>3</td>\n",
       "      <td>Earl</td>\n",
       "      <td>Dahlstrom</td>\n",
       "      <td>3361</td>\n",
       "    </tr>\n",
       "    <tr>\n",
       "      <th>3</th>\n",
       "      <td>4</td>\n",
       "      <td>Thomas</td>\n",
       "      <td>Lasley</td>\n",
       "      <td>1478</td>\n",
       "    </tr>\n",
       "    <tr>\n",
       "      <th>4</th>\n",
       "      <td>5</td>\n",
       "      <td>Norberto</td>\n",
       "      <td>Rouse</td>\n",
       "      <td>3787</td>\n",
       "    </tr>\n",
       "    <tr>\n",
       "      <th>5</th>\n",
       "      <td>6</td>\n",
       "      <td>Sonja</td>\n",
       "      <td>Miraflores</td>\n",
       "      <td>2431</td>\n",
       "    </tr>\n",
       "    <tr>\n",
       "      <th>6</th>\n",
       "      <td>7</td>\n",
       "      <td>William</td>\n",
       "      <td>Vernon</td>\n",
       "      <td>2895</td>\n",
       "    </tr>\n",
       "    <tr>\n",
       "      <th>7</th>\n",
       "      <td>8</td>\n",
       "      <td>Mary</td>\n",
       "      <td>Cesari</td>\n",
       "      <td>1338</td>\n",
       "    </tr>\n",
       "    <tr>\n",
       "      <th>8</th>\n",
       "      <td>9</td>\n",
       "      <td>Pamala</td>\n",
       "      <td>Baker</td>\n",
       "      <td>1339</td>\n",
       "    </tr>\n",
       "    <tr>\n",
       "      <th>9</th>\n",
       "      <td>10</td>\n",
       "      <td>Richard</td>\n",
       "      <td>Irwin</td>\n",
       "      <td>3467</td>\n",
       "    </tr>\n",
       "    <tr>\n",
       "      <th>10</th>\n",
       "      <td>11</td>\n",
       "      <td>Patricia</td>\n",
       "      <td>Leroy</td>\n",
       "      <td>2783</td>\n",
       "    </tr>\n",
       "    <tr>\n",
       "      <th>11</th>\n",
       "      <td>12</td>\n",
       "      <td>Perry</td>\n",
       "      <td>Hatmaker</td>\n",
       "      <td>3816</td>\n",
       "    </tr>\n",
       "    <tr>\n",
       "      <th>12</th>\n",
       "      <td>13</td>\n",
       "      <td>Edna</td>\n",
       "      <td>Collins</td>\n",
       "      <td>1297</td>\n",
       "    </tr>\n",
       "    <tr>\n",
       "      <th>13</th>\n",
       "      <td>14</td>\n",
       "      <td>David</td>\n",
       "      <td>Ross</td>\n",
       "      <td>3851</td>\n",
       "    </tr>\n",
       "    <tr>\n",
       "      <th>14</th>\n",
       "      <td>15</td>\n",
       "      <td>Matthew</td>\n",
       "      <td>Rodriguez</td>\n",
       "      <td>3724</td>\n",
       "    </tr>\n",
       "    <tr>\n",
       "      <th>15</th>\n",
       "      <td>16</td>\n",
       "      <td>Tamara</td>\n",
       "      <td>Madden</td>\n",
       "      <td>2225</td>\n",
       "    </tr>\n",
       "    <tr>\n",
       "      <th>16</th>\n",
       "      <td>17</td>\n",
       "      <td>Maria</td>\n",
       "      <td>Williams</td>\n",
       "      <td>1411</td>\n",
       "    </tr>\n",
       "    <tr>\n",
       "      <th>17</th>\n",
       "      <td>18</td>\n",
       "      <td>Kim</td>\n",
       "      <td>Mattos</td>\n",
       "      <td>1259</td>\n",
       "    </tr>\n",
       "    <tr>\n",
       "      <th>18</th>\n",
       "      <td>19</td>\n",
       "      <td>Gladys</td>\n",
       "      <td>Mahler</td>\n",
       "      <td>1529</td>\n",
       "    </tr>\n",
       "    <tr>\n",
       "      <th>19</th>\n",
       "      <td>20</td>\n",
       "      <td>Robert</td>\n",
       "      <td>Rose</td>\n",
       "      <td>1442</td>\n",
       "    </tr>\n",
       "  </tbody>\n",
       "</table>\n",
       "</div>"
      ],
      "text/plain": [
       "    id_treballador       nom      cognom  salari\n",
       "0                1       Sue        Irby    1622\n",
       "1                2    Melvin        King    3702\n",
       "2                3      Earl   Dahlstrom    3361\n",
       "3                4    Thomas      Lasley    1478\n",
       "4                5  Norberto       Rouse    3787\n",
       "5                6     Sonja  Miraflores    2431\n",
       "6                7   William      Vernon    2895\n",
       "7                8      Mary      Cesari    1338\n",
       "8                9    Pamala       Baker    1339\n",
       "9               10   Richard       Irwin    3467\n",
       "10              11  Patricia       Leroy    2783\n",
       "11              12     Perry    Hatmaker    3816\n",
       "12              13      Edna     Collins    1297\n",
       "13              14     David        Ross    3851\n",
       "14              15   Matthew   Rodriguez    3724\n",
       "15              16    Tamara      Madden    2225\n",
       "16              17     Maria    Williams    1411\n",
       "17              18       Kim      Mattos    1259\n",
       "18              19    Gladys      Mahler    1529\n",
       "19              20    Robert        Rose    1442"
      ]
     },
     "execution_count": 3,
     "metadata": {},
     "output_type": "execute_result"
    }
   ],
   "source": [
    "treballadors = pd.read_sql_query(\"SELECT * FROM treballadors\", mydb)\n",
    "treballadors"
   ]
  },
  {
   "cell_type": "code",
   "execution_count": 4,
   "id": "0e12f778",
   "metadata": {},
   "outputs": [
    {
     "data": {
      "text/html": [
       "<div>\n",
       "<style scoped>\n",
       "    .dataframe tbody tr th:only-of-type {\n",
       "        vertical-align: middle;\n",
       "    }\n",
       "\n",
       "    .dataframe tbody tr th {\n",
       "        vertical-align: top;\n",
       "    }\n",
       "\n",
       "    .dataframe thead th {\n",
       "        text-align: right;\n",
       "    }\n",
       "</style>\n",
       "<table border=\"1\" class=\"dataframe\">\n",
       "  <thead>\n",
       "    <tr style=\"text-align: right;\">\n",
       "      <th></th>\n",
       "      <th>id_establiment</th>\n",
       "      <th>nom</th>\n",
       "      <th>loc</th>\n",
       "      <th>superf</th>\n",
       "    </tr>\n",
       "  </thead>\n",
       "  <tbody>\n",
       "    <tr>\n",
       "      <th>0</th>\n",
       "      <td>21</td>\n",
       "      <td>Solutions Studio Inc</td>\n",
       "      <td>Grandin</td>\n",
       "      <td>259</td>\n",
       "    </tr>\n",
       "    <tr>\n",
       "      <th>1</th>\n",
       "      <td>22</td>\n",
       "      <td>Net Omega West Industries</td>\n",
       "      <td>Rochester</td>\n",
       "      <td>216</td>\n",
       "    </tr>\n",
       "    <tr>\n",
       "      <th>2</th>\n",
       "      <td>23</td>\n",
       "      <td>Hardware Limited</td>\n",
       "      <td>Oklahoma City</td>\n",
       "      <td>137</td>\n",
       "    </tr>\n",
       "    <tr>\n",
       "      <th>3</th>\n",
       "      <td>24</td>\n",
       "      <td>Network Incorporated</td>\n",
       "      <td>Shuqualak</td>\n",
       "      <td>152</td>\n",
       "    </tr>\n",
       "    <tr>\n",
       "      <th>4</th>\n",
       "      <td>25</td>\n",
       "      <td>Power Pacific Corporation</td>\n",
       "      <td>Valdosta</td>\n",
       "      <td>276</td>\n",
       "    </tr>\n",
       "    <tr>\n",
       "      <th>5</th>\n",
       "      <td>26</td>\n",
       "      <td>Omega Research Agency</td>\n",
       "      <td>Sparks</td>\n",
       "      <td>206</td>\n",
       "    </tr>\n",
       "    <tr>\n",
       "      <th>6</th>\n",
       "      <td>27</td>\n",
       "      <td>Federated Architecture Co</td>\n",
       "      <td>Wisconsin Rapids</td>\n",
       "      <td>433</td>\n",
       "    </tr>\n",
       "    <tr>\n",
       "      <th>7</th>\n",
       "      <td>28</td>\n",
       "      <td>Interactive Construction Limited</td>\n",
       "      <td>Johnson</td>\n",
       "      <td>379</td>\n",
       "    </tr>\n",
       "    <tr>\n",
       "      <th>8</th>\n",
       "      <td>29</td>\n",
       "      <td>Graphics Hill Systems Industries</td>\n",
       "      <td>Napavine</td>\n",
       "      <td>213</td>\n",
       "    </tr>\n",
       "    <tr>\n",
       "      <th>9</th>\n",
       "      <td>30</td>\n",
       "      <td>Telecom Internet Alpha International</td>\n",
       "      <td>Camp Creek</td>\n",
       "      <td>179</td>\n",
       "    </tr>\n",
       "    <tr>\n",
       "      <th>10</th>\n",
       "      <td>31</td>\n",
       "      <td>Application Universal International</td>\n",
       "      <td>Mineral Point</td>\n",
       "      <td>235</td>\n",
       "    </tr>\n",
       "    <tr>\n",
       "      <th>11</th>\n",
       "      <td>32</td>\n",
       "      <td>Speed Corporation</td>\n",
       "      <td>Cincinnati</td>\n",
       "      <td>373</td>\n",
       "    </tr>\n",
       "    <tr>\n",
       "      <th>12</th>\n",
       "      <td>33</td>\n",
       "      <td>Data North Incorporated</td>\n",
       "      <td>Bullhead City</td>\n",
       "      <td>444</td>\n",
       "    </tr>\n",
       "    <tr>\n",
       "      <th>13</th>\n",
       "      <td>34</td>\n",
       "      <td>Consulting Limited</td>\n",
       "      <td>Marion</td>\n",
       "      <td>428</td>\n",
       "    </tr>\n",
       "    <tr>\n",
       "      <th>14</th>\n",
       "      <td>35</td>\n",
       "      <td>Provider Vision Electronics Limited</td>\n",
       "      <td>Rockport</td>\n",
       "      <td>311</td>\n",
       "    </tr>\n",
       "    <tr>\n",
       "      <th>15</th>\n",
       "      <td>36</td>\n",
       "      <td>Federated Graphics Source Agency</td>\n",
       "      <td>Oceano</td>\n",
       "      <td>332</td>\n",
       "    </tr>\n",
       "    <tr>\n",
       "      <th>16</th>\n",
       "      <td>37</td>\n",
       "      <td>General LLC</td>\n",
       "      <td>Buchanan</td>\n",
       "      <td>369</td>\n",
       "    </tr>\n",
       "    <tr>\n",
       "      <th>17</th>\n",
       "      <td>38</td>\n",
       "      <td>Hardware Group</td>\n",
       "      <td>China Village</td>\n",
       "      <td>341</td>\n",
       "    </tr>\n",
       "    <tr>\n",
       "      <th>18</th>\n",
       "      <td>39</td>\n",
       "      <td>Medicine Organization</td>\n",
       "      <td>Allentown</td>\n",
       "      <td>50</td>\n",
       "    </tr>\n",
       "    <tr>\n",
       "      <th>19</th>\n",
       "      <td>40</td>\n",
       "      <td>Vision Solutions Design Agency</td>\n",
       "      <td>Drybranch</td>\n",
       "      <td>415</td>\n",
       "    </tr>\n",
       "  </tbody>\n",
       "</table>\n",
       "</div>"
      ],
      "text/plain": [
       "    id_establiment                                   nom               loc  \\\n",
       "0               21                  Solutions Studio Inc           Grandin   \n",
       "1               22             Net Omega West Industries         Rochester   \n",
       "2               23                      Hardware Limited     Oklahoma City   \n",
       "3               24                  Network Incorporated         Shuqualak   \n",
       "4               25             Power Pacific Corporation          Valdosta   \n",
       "5               26                 Omega Research Agency            Sparks   \n",
       "6               27             Federated Architecture Co  Wisconsin Rapids   \n",
       "7               28      Interactive Construction Limited           Johnson   \n",
       "8               29      Graphics Hill Systems Industries          Napavine   \n",
       "9               30  Telecom Internet Alpha International        Camp Creek   \n",
       "10              31   Application Universal International     Mineral Point   \n",
       "11              32                     Speed Corporation        Cincinnati   \n",
       "12              33               Data North Incorporated     Bullhead City   \n",
       "13              34                    Consulting Limited            Marion   \n",
       "14              35   Provider Vision Electronics Limited          Rockport   \n",
       "15              36      Federated Graphics Source Agency            Oceano   \n",
       "16              37                           General LLC          Buchanan   \n",
       "17              38                        Hardware Group     China Village   \n",
       "18              39                 Medicine Organization         Allentown   \n",
       "19              40        Vision Solutions Design Agency         Drybranch   \n",
       "\n",
       "    superf  \n",
       "0      259  \n",
       "1      216  \n",
       "2      137  \n",
       "3      152  \n",
       "4      276  \n",
       "5      206  \n",
       "6      433  \n",
       "7      379  \n",
       "8      213  \n",
       "9      179  \n",
       "10     235  \n",
       "11     373  \n",
       "12     444  \n",
       "13     428  \n",
       "14     311  \n",
       "15     332  \n",
       "16     369  \n",
       "17     341  \n",
       "18      50  \n",
       "19     415  "
      ]
     },
     "execution_count": 4,
     "metadata": {},
     "output_type": "execute_result"
    }
   ],
   "source": [
    "establiments = pd.read_sql_query(\"SELECT * FROM establiments\", mydb)\n",
    "establiments"
   ]
  },
  {
   "cell_type": "code",
   "execution_count": 5,
   "id": "402e8f51",
   "metadata": {
    "scrolled": false
   },
   "outputs": [
    {
     "data": {
      "text/html": [
       "<div>\n",
       "<style scoped>\n",
       "    .dataframe tbody tr th:only-of-type {\n",
       "        vertical-align: middle;\n",
       "    }\n",
       "\n",
       "    .dataframe tbody tr th {\n",
       "        vertical-align: top;\n",
       "    }\n",
       "\n",
       "    .dataframe thead th {\n",
       "        text-align: right;\n",
       "    }\n",
       "</style>\n",
       "<table border=\"1\" class=\"dataframe\">\n",
       "  <thead>\n",
       "    <tr style=\"text-align: right;\">\n",
       "      <th></th>\n",
       "      <th>id_producte</th>\n",
       "      <th>tipus</th>\n",
       "      <th>preu</th>\n",
       "    </tr>\n",
       "  </thead>\n",
       "  <tbody>\n",
       "    <tr>\n",
       "      <th>0</th>\n",
       "      <td>12</td>\n",
       "      <td>corn flakes</td>\n",
       "      <td>9</td>\n",
       "    </tr>\n",
       "    <tr>\n",
       "      <th>1</th>\n",
       "      <td>15</td>\n",
       "      <td>napoleon</td>\n",
       "      <td>7</td>\n",
       "    </tr>\n",
       "    <tr>\n",
       "      <th>2</th>\n",
       "      <td>16</td>\n",
       "      <td>meat</td>\n",
       "      <td>8</td>\n",
       "    </tr>\n",
       "    <tr>\n",
       "      <th>3</th>\n",
       "      <td>20</td>\n",
       "      <td>lamb</td>\n",
       "      <td>9</td>\n",
       "    </tr>\n",
       "  </tbody>\n",
       "</table>\n",
       "</div>"
      ],
      "text/plain": [
       "   id_producte        tipus  preu\n",
       "0           12  corn flakes     9\n",
       "1           15     napoleon     7\n",
       "2           16         meat     8\n",
       "3           20         lamb     9"
      ]
     },
     "execution_count": 5,
     "metadata": {},
     "output_type": "execute_result"
    }
   ],
   "source": [
    "#només els productes que valen més de 6 euros\n",
    "pd.read_sql_query(\"SELECT * FROM productes WHERE preu>6\", mydb)"
   ]
  },
  {
   "cell_type": "code",
   "execution_count": 6,
   "id": "7b063a3e",
   "metadata": {},
   "outputs": [
    {
     "data": {
      "text/html": [
       "<div>\n",
       "<style scoped>\n",
       "    .dataframe tbody tr th:only-of-type {\n",
       "        vertical-align: middle;\n",
       "    }\n",
       "\n",
       "    .dataframe tbody tr th {\n",
       "        vertical-align: top;\n",
       "    }\n",
       "\n",
       "    .dataframe thead th {\n",
       "        text-align: right;\n",
       "    }\n",
       "</style>\n",
       "<table border=\"1\" class=\"dataframe\">\n",
       "  <thead>\n",
       "    <tr style=\"text-align: right;\">\n",
       "      <th></th>\n",
       "      <th>id_clients</th>\n",
       "      <th>nom</th>\n",
       "      <th>cognom</th>\n",
       "    </tr>\n",
       "  </thead>\n",
       "  <tbody>\n",
       "    <tr>\n",
       "      <th>0</th>\n",
       "      <td>84</td>\n",
       "      <td>Domenic</td>\n",
       "      <td>Gary</td>\n",
       "    </tr>\n",
       "    <tr>\n",
       "      <th>1</th>\n",
       "      <td>93</td>\n",
       "      <td>Dona</td>\n",
       "      <td>Caban</td>\n",
       "    </tr>\n",
       "  </tbody>\n",
       "</table>\n",
       "</div>"
      ],
      "text/plain": [
       "   id_clients      nom cognom\n",
       "0          84  Domenic   Gary\n",
       "1          93     Dona  Caban"
      ]
     },
     "execution_count": 6,
     "metadata": {},
     "output_type": "execute_result"
    }
   ],
   "source": [
    "#clients els noms dels quals comencin per \"Do\"\n",
    "pd.read_sql_query(\"SELECT * FROM clients WHERE nom LIKE 'Do%'\", mydb)"
   ]
  },
  {
   "cell_type": "markdown",
   "id": "796db720",
   "metadata": {},
   "source": [
    "- Exercici 3\n",
    "\n",
    "Genera algun gràfic que resumeixi les dades. "
   ]
  },
  {
   "cell_type": "markdown",
   "id": "6ed2296c",
   "metadata": {},
   "source": [
    "Les dades, com és d'esperar, presenten una distribució aleatòria."
   ]
  },
  {
   "cell_type": "code",
   "execution_count": 19,
   "id": "fa2c41a1",
   "metadata": {
    "scrolled": true
   },
   "outputs": [
    {
     "data": {
      "text/plain": [
       "<AxesSubplot:xlabel='superf', ylabel='Count'>"
      ]
     },
     "execution_count": 19,
     "metadata": {},
     "output_type": "execute_result"
    },
    {
     "data": {
      "image/png": "[encoded data removed]",
      "text/plain": [
       "<Figure size 432x288 with 1 Axes>"
      ]
     },
     "metadata": {
      "needs_background": "light"
     },
     "output_type": "display_data"
    }
   ],
   "source": [
    "sns.histplot(establiments.superf)"
   ]
  },
  {
   "cell_type": "markdown",
   "id": "8a991e21",
   "metadata": {},
   "source": [
    "La majoria d'establiments es troben entre 375 i 440 metres quadrats."
   ]
  },
  {
   "cell_type": "code",
   "execution_count": 20,
   "id": "450143d5",
   "metadata": {
    "scrolled": true
   },
   "outputs": [
    {
     "data": {
      "text/plain": [
       "<AxesSubplot:xlabel='salari', ylabel='Count'>"
      ]
     },
     "execution_count": 20,
     "metadata": {},
     "output_type": "execute_result"
    },
    {
     "data": {
      "image/png": "[encoded data removed]",
      "text/plain": [
       "<Figure size 432x288 with 1 Axes>"
      ]
     },
     "metadata": {
      "needs_background": "light"
     },
     "output_type": "display_data"
    }
   ],
   "source": [
    "sns.histplot(treballadors.salari)"
   ]
  },
  {
   "cell_type": "markdown",
   "id": "5bfb486a",
   "metadata": {},
   "source": [
    "La majoria dels treballadors tenen un salari de 1500 euros, molts pocs tenen un salari entre els 2000 i els 3500 euros, bastants superen aquesta última xifra."
   ]
  }
 ],
 "metadata": {
  "kernelspec": {
   "display_name": "Python 3",
   "language": "python",
   "name": "python3"
  },
  "language_info": {
   "codemirror_mode": {
    "name": "ipython",
    "version": 3
   },
   "file_extension": ".py",
   "mimetype": "text/x-python",
   "name": "python",
   "nbconvert_exporter": "python",
   "pygments_lexer": "ipython3",
   "version": "3.8.8"
  }
 },
 "nbformat": 4,
 "nbformat_minor": 5
}
